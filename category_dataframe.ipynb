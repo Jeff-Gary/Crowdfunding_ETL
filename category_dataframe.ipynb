{
 "cells": [
  {
   "cell_type": "code",
   "execution_count": 98,
   "id": "c68e2678-c60b-4897-a1a2-e298d3a19ccd",
   "metadata": {},
   "outputs": [],
   "source": [
    "#Import dependencies\n",
    "import pandas as pd"
   ]
  },
  {
   "cell_type": "code",
   "execution_count": 100,
   "id": "29eac1cf-21aa-46e1-a376-66d6632baddc",
   "metadata": {},
   "outputs": [],
   "source": [
    "# Define the file path, sheet name, and relevant column\n",
    "file_path = \"Desktop/Crowdfunding_ETL/crowdfunding.xlsx\"\n",
    "sheet_name = \"crowdfunding_info\"  \n",
    "#category_column = \"category & sub-category\"  "
   ]
  },
  {
   "cell_type": "code",
   "execution_count": 102,
   "id": "ee8d797d-2ac6-41c6-a12e-faf3838f0052",
   "metadata": {},
   "outputs": [],
   "source": [
    "df = pd.read_excel(file_path, sheet_name=sheet_name)"
   ]
  },
  {
   "cell_type": "code",
   "execution_count": 104,
   "id": "d1d34800-4c40-477d-9241-343ea3a1dffd",
   "metadata": {},
   "outputs": [],
   "source": [
    "df['category'] = df['category & sub-category'].str.split('/').str[0]"
   ]
  },
  {
   "cell_type": "code",
   "execution_count": 106,
   "id": "93ce6187-762a-4b39-92a2-7490e9a255b1",
   "metadata": {},
   "outputs": [],
   "source": [
    "unique_categories = df['category'].drop_duplicates().reset_index(drop=True)"
   ]
  },
  {
   "cell_type": "code",
   "execution_count": 108,
   "id": "0306204e-307a-4ab7-92f4-87781a70d79a",
   "metadata": {},
   "outputs": [],
   "source": [
    "category_df = pd.DataFrame({\n",
    "    \"category_id\": [f\"cat{i+1}\" for i in range(len(unique_categories))],\n",
    "    \"category\": unique_categories\n",
    "})"
   ]
  },
  {
   "cell_type": "code",
   "execution_count": 110,
   "id": "05a9006c-7f96-4b76-a28e-3019bd283578",
   "metadata": {},
   "outputs": [
    {
     "name": "stdout",
     "output_type": "stream",
     "text": [
      "  category_id      category\n",
      "0        cat1          food\n",
      "1        cat2         music\n",
      "2        cat3    technology\n",
      "3        cat4       theater\n",
      "4        cat5  film & video\n",
      "5        cat6    publishing\n",
      "6        cat7         games\n",
      "7        cat8   photography\n",
      "8        cat9    journalism\n"
     ]
    }
   ],
   "source": [
    "print(category_df)"
   ]
  },
  {
   "cell_type": "code",
   "execution_count": 112,
   "id": "99e5f6cf-1388-43e8-aefe-5aa56c18b1d9",
   "metadata": {},
   "outputs": [
    {
     "name": "stdout",
     "output_type": "stream",
     "text": [
      "File saved as category.csv.\n"
     ]
    }
   ],
   "source": [
    "category_df.to_csv(\"category.csv\", index=False)\n",
    "\n",
    "print(\"File saved as category.csv.\")"
   ]
  },
  {
   "cell_type": "code",
   "execution_count": null,
   "id": "88cc69fb-5548-435e-8038-4ba45474bf43",
   "metadata": {},
   "outputs": [],
   "source": []
  }
 ],
 "metadata": {
  "kernelspec": {
   "display_name": "Python 3 (ipykernel)",
   "language": "python",
   "name": "python3"
  },
  "language_info": {
   "codemirror_mode": {
    "name": "ipython",
    "version": 3
   },
   "file_extension": ".py",
   "mimetype": "text/x-python",
   "name": "python",
   "nbconvert_exporter": "python",
   "pygments_lexer": "ipython3",
   "version": "3.12.4"
  }
 },
 "nbformat": 4,
 "nbformat_minor": 5
}
